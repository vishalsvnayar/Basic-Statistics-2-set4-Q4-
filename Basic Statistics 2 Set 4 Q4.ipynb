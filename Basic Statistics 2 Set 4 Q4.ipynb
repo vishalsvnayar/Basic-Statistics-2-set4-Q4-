{
 "cells": [
  {
   "cell_type": "markdown",
   "id": "d2463411",
   "metadata": {},
   "source": [
    "**Q4**.The auditors from the above example would like to maintain the probability of investigation to 5%. Which of the following represents the minimum number transactions that they should sample if they do not want to change the thresholds of 45 and 55? Assume that the sample statistics remain unchanged.\n",
    "Ans: Population proportion and size are unknown.\n",
    "\n",
    "A.144\n",
    "\n",
    "B.150\n",
    "\n",
    "C.196\n",
    "\n",
    "D.250\n",
    "\n",
    "E.`Not enough information`\n"
   ]
  },
  {
   "cell_type": "markdown",
   "id": "cdf019b4",
   "metadata": {},
   "source": []
  }
 ],
 "metadata": {
  "kernelspec": {
   "display_name": "Python 3 (ipykernel)",
   "language": "python",
   "name": "python3"
  },
  "language_info": {
   "codemirror_mode": {
    "name": "ipython",
    "version": 3
   },
   "file_extension": ".py",
   "mimetype": "text/x-python",
   "name": "python",
   "nbconvert_exporter": "python",
   "pygments_lexer": "ipython3",
   "version": "3.9.7"
  }
 },
 "nbformat": 4,
 "nbformat_minor": 5
}
